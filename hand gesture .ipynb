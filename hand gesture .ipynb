{
 "cells": [
  {
   "cell_type": "code",
   "execution_count": 1,
   "id": "af90d973",
   "metadata": {},
   "outputs": [],
   "source": [
    "import mediapipe as mp"
   ]
  },
  {
   "cell_type": "code",
   "execution_count": 2,
   "id": "14b1c6c3",
   "metadata": {},
   "outputs": [],
   "source": [
    "import cv2"
   ]
  },
  {
   "cell_type": "code",
   "execution_count": 3,
   "id": "174ae672",
   "metadata": {},
   "outputs": [],
   "source": [
    "import numpy as np"
   ]
  },
  {
   "cell_type": "code",
   "execution_count": 4,
   "id": "26d4b921",
   "metadata": {},
   "outputs": [],
   "source": [
    "from mediapipe.framework.formats import landmark_pb2"
   ]
  },
  {
   "cell_type": "code",
   "execution_count": 5,
   "id": "86bc95a6",
   "metadata": {},
   "outputs": [],
   "source": [
    "import time\n"
   ]
  },
  {
   "cell_type": "code",
   "execution_count": 6,
   "id": "f5e71514",
   "metadata": {},
   "outputs": [],
   "source": [
    "import win32api"
   ]
  },
  {
   "cell_type": "code",
   "execution_count": 7,
   "id": "3493853f",
   "metadata": {},
   "outputs": [],
   "source": [
    "import pyautogui"
   ]
  },
  {
   "cell_type": "code",
   "execution_count": 8,
   "id": "c3312d94",
   "metadata": {},
   "outputs": [],
   "source": [
    "mp_drawing=mp.solutions.drawing_utils"
   ]
  },
  {
   "cell_type": "code",
   "execution_count": 9,
   "id": "995dd6ec",
   "metadata": {},
   "outputs": [],
   "source": [
    "mp_hands=mp.solutions.hands"
   ]
  },
  {
   "cell_type": "code",
   "execution_count": null,
   "id": "fda77a2d",
   "metadata": {},
   "outputs": [],
   "source": [
    "video=cv2.VideoCapture(0)"
   ]
  },
  {
   "cell_type": "code",
   "execution_count": null,
   "id": "f5f68126",
   "metadata": {},
   "outputs": [],
   "source": [
    "with mp_hands.Hands(min_detection_confidence=0.8,min_tracking_confidence=0.5) as hands:\n",
    "    while video.isOpened():\n",
    "        _,frame=video.read()\n",
    "        image=cv2.cvtColor(frame,cv2.COLOR_BGR2RGB)\n",
    "        image=cv2.flip(image,1)\n",
    "        image_height,image_width,_=image.shape\n",
    "        results=hands.process(image)\n",
    "        image-cv2.cvtColor(frame,cv2.COLOR_RGB2BGR)\n",
    "        if results.multi_hand_landmarks:\n",
    "            for num,hand in enumerate(results.multi_hand_landmarks):\n",
    "                mp_drawing.draw_landmarks(image,hand,mp_hands.HAND_CONNECTIONS,mp_drawing.DrawingSpec(color=(250,44,250),thickness=2,circle_radius=2))\n",
    "        \n",
    "        if results.multi_hand_landmarks !=None:\n",
    "            for handsLandmarks in results.multi_hand_landmarks:\n",
    "                for points in mp_hands.HandLandmark:\n",
    "                    normalizedLandmark=handsLandmarks.landmark[points]\n",
    "                    pixelCoordinatesLandmark=mp_drawing._normalized_to_pixel_coordinates(normalizedLandmark.x,normalizedLandmark.y,image_width,image_height)\n",
    "                    points=str(points)\n",
    "                    if points =='HandLandnark. INDEX FINGER TIP':\n",
    "                        try:\n",
    "                            cv2.circle(image,(pixelCoordinatesLandmark[0],pixelCoordinatesLandmark[1]),25,(0,200,0),5)\n",
    "                            indexfingertip_x=pixelCoordinatesLandmark[0]\n",
    "                            indexfingertip_y=pixelCoordinatesLandmark[1]\n",
    "                            print(\"hello\")\n",
    "                            win32api.SetCursorPos((indexfingertip_x*4,indexfingertip_y*5))\n",
    "                            pyautogui.mouseDown(buttoon='left')\n",
    "                        except:\n",
    "                            pass\n",
    "                    \n",
    "                        \n",
    "        cv2.imshow('game',image)\n",
    "        if cv2.waitKey(10) & 0xFF == ord('q'):\n",
    "            break\n",
    "video.release()\n",
    "cv2.destroyAllWindows()\n",
    "                    \n",
    "        \n",
    "                \n",
    "            \n",
    "\n"
   ]
  },
  {
   "cell_type": "code",
   "execution_count": null,
   "id": "dea1ddcb",
   "metadata": {},
   "outputs": [],
   "source": []
  }
 ],
 "metadata": {
  "kernelspec": {
   "display_name": "Python 3",
   "language": "python",
   "name": "python3"
  },
  "language_info": {
   "codemirror_mode": {
    "name": "ipython",
    "version": 3
   },
   "file_extension": ".py",
   "mimetype": "text/x-python",
   "name": "python",
   "nbconvert_exporter": "python",
   "pygments_lexer": "ipython3",
   "version": "3.9.5"
  }
 },
 "nbformat": 4,
 "nbformat_minor": 5
}
